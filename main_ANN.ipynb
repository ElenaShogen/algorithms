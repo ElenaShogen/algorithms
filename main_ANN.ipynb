{
 "cells": [
  {
   "cell_type": "code",
   "execution_count": 1,
   "metadata": {},
   "outputs": [],
   "source": [
    "import numpy as np\n",
    "import pandas as pd\n",
    "from functools import partial\n",
    "import matplotlib.pyplot as plt\n",
    "\n",
    "# for dataset preprocessing\n",
    "from  sklearn.preprocessing  import  StandardScaler, OneHotEncoder\n",
    "from sklearn.model_selection import train_test_split\n",
    "\n",
    "#for ANN and optimisator\n",
    "from valid import  validation, accuracy\n",
    "from NeuroNet import NeuroNet\n",
    "from my_PSO import ParticleSwarm\n",
    "from jaya_for_ann import Jaya"
   ]
  },
  {
   "cell_type": "code",
   "execution_count": 2,
   "metadata": {},
   "outputs": [
    {
     "name": "stdout",
     "output_type": "stream",
     "text": [
      "X_train: 160\n",
      "n_feat: 9\n"
     ]
    }
   ],
   "source": [
    "from ucimlrepo import fetch_ucirepo \n",
    "  \n",
    "glass_identification = fetch_ucirepo(id=42) \n",
    "  \n",
    "X = glass_identification.data.features.to_numpy() \n",
    "u = glass_identification.data.targets.to_numpy() \n",
    "y = u.T[0]\n",
    "\n",
    "X_train, X_test, y_train, y_test = train_test_split(X, y, random_state=42)\n",
    "\n",
    "scaler = StandardScaler()  \n",
    "encoder = OneHotEncoder()\n",
    "X_train =  scaler.fit_transform(X_train.astype(np.float64)) \n",
    "X_test  =  scaler.fit_transform(X_test.astype(np.float64)) \n",
    "\n",
    "y_train = encoder.fit_transform(y_train.reshape(-1, 1)).toarray()\n",
    "y_test = encoder.transform(y_test.reshape(-1, 1)).toarray()\n",
    "\n",
    "\n",
    "n_feat  = len(X_test[0])\n",
    "m_out   = 6\n",
    "print('X_train:' , len(X_train))\n",
    "print('n_feat:', n_feat)\n"
   ]
  },
  {
   "cell_type": "code",
   "execution_count": 3,
   "metadata": {},
   "outputs": [],
   "source": [
    "num_iter = 500 # количество итераций\n",
    "new_start = 1 # число симуляций "
   ]
  },
  {
   "cell_type": "code",
   "execution_count": 4,
   "metadata": {},
   "outputs": [],
   "source": [
    "#PSO\n",
    "neuro_pso = NeuroNet(n_feat=n_feat, m_out=m_out, swarmsize=40, dw=-1, up=1, hid=18, lmbd=0.00001) \n",
    "pso_bestGlobal = []\n",
    "all_best_scores_pso = []\n",
    "for k in range(new_start):\n",
    "    p_swarm = neuro_pso.initialize_swarm()\n",
    "    f_cost_pso = partial(neuro_pso.err_for_each_particle, X_train, y_train)\n",
    "    pso = ParticleSwarm(x_max=np.inf, v_max=0.1, swarm=p_swarm, cost_f=f_cost_pso, dimension=neuro_pso.dimension, swarmsize=neuro_pso.swarmsize, alpha=2, beta=1, gamma=0.5)\n",
    "    best_scores_pso = []\n",
    "    i = 0\n",
    "    while pso.best > 1e-6 and i < num_iter:\n",
    "        pso.rate_particles()\n",
    "        best_scores_pso.append(pso.best) #минимальная ошибка в рое на каждой итерации\n",
    "        i = i + 1\n",
    "    pso_bestGlobal.append(pso.bestGlobal) # положение частицы в котором достигается минимальная ошибка после всех итераций\n",
    "    all_best_scores_pso.append(best_scores_pso) # список минимальных ошибок в рое  на каждой симуляции. найти их mean, median, std, min"
   ]
  },
  {
   "cell_type": "code",
   "execution_count": 5,
   "metadata": {},
   "outputs": [],
   "source": [
    "#Jaya\n",
    "neuro_jaya = NeuroNet(n_feat=n_feat, m_out=m_out, swarmsize=40, dw=-1, up=1, hid=18, lmbd=0.0000001) \n",
    "jaya_best = []\n",
    "all_best_scores_jaya = []\n",
    "for k in range(new_start):\n",
    "    p_population = neuro_jaya.initialize_swarm()\n",
    "    f_cost_jaya = partial(neuro_jaya.err_for_each_particle, X_train, y_train)\n",
    "    jaya = Jaya(domain=np.inf, population=p_population, cost_f=f_cost_jaya, obj=neuro_jaya)\n",
    "    best_scores_jaya = []\n",
    "    i = 0\n",
    "    while jaya.best_value > 1e-4 and i < num_iter:\n",
    "        jaya.update()\n",
    "        best_scores_jaya.append(jaya.best_value)\n",
    "        i = i + 1\n",
    "    jaya_best.append(jaya.best)\n",
    "    all_best_scores_jaya.append(best_scores_jaya)"
   ]
  },
  {
   "cell_type": "code",
   "execution_count": 6,
   "metadata": {},
   "outputs": [],
   "source": [
    "#PSO-Jaya\n",
    "pso_jaya_best = []\n",
    "all_best_scores_pso_jaya = []\n",
    "for k in range(new_start):\n",
    "    neuro_pso_jaya = NeuroNet(n_feat=n_feat, m_out=m_out, swarmsize=40, dw=-1, up=1, hid=18, lmbd=0.0000001) \n",
    "    f_cost_pso_jy = partial(neuro_pso_jaya.err_for_each_particle, X_train, y_train)\n",
    "    p_swarm_pop = neuro_pso_jaya.initialize_swarm()\n",
    "    pso_jaya =  ParticleSwarm(x_max=np.inf, v_max=0.1, swarm=p_swarm_pop, cost_f=f_cost_pso_jy, dimension=neuro_pso_jaya.dimension, swarmsize=neuro_pso_jaya.swarmsize, alpha=2, beta=1, gamma=0.5)\n",
    "    best_scores_pso_jaya = [pso_jaya.best]\n",
    "    for i in range(num_iter):\n",
    "        pso_jaya.rate_particles()\n",
    "        if pso_jaya.best >= best_scores_pso_jaya[-1]:\n",
    "            jy = Jaya(domain=np.inf, cost_f=pso_jaya.cost_f, population=pso_jaya.swarm, obj=pso_jaya)\n",
    "            for j in range(3):\n",
    "                jy.update()\n",
    "            pso_jaya.bestGlobal = jy.best\n",
    "        best_scores_pso_jaya.append(pso_jaya.best) \n",
    "    pso_jaya_best.append(pso_jaya.bestGlobal)\n",
    "    all_best_scores_pso_jaya.append(best_scores_pso_jaya)"
   ]
  },
  {
   "cell_type": "code",
   "execution_count": 7,
   "metadata": {},
   "outputs": [
    {
     "name": "stdout",
     "output_type": "stream",
     "text": [
      "PSO: 69.375 70.37037037037037\n",
      "Jaya: 63.125 70.37037037037037\n",
      "PSO-Jaya: 72.5 66.66666666666667\n"
     ]
    }
   ],
   "source": [
    "valid_pso = accuracy(neuro_pso, X_train, X_test, y_train, y_test, pso_bestGlobal)\n",
    "valid_jaya = accuracy(neuro_jaya, X_train, X_test, y_train, y_test, jaya_best)\n",
    "valid_pso_jaya = accuracy(neuro_pso_jaya, X_train, X_test, y_train, y_test, pso_jaya_best)\n",
    "\n",
    "print(\"PSO:\",      valid_pso.T[0].mean(),     valid_pso.T[1].mean())\n",
    "print(\"Jaya:\",     valid_jaya.T[0].mean(),     valid_jaya.T[1].mean())\n",
    "print(\"PSO-Jaya:\", valid_pso_jaya.T[0].mean(), valid_pso_jaya.T[1].mean())"
   ]
  },
  {
   "cell_type": "code",
   "execution_count": null,
   "metadata": {},
   "outputs": [],
   "source": [
    "def all_best_scores(all_best_scores):\n",
    "    res_simul = []\n",
    "    for el in all_best_scores.T:\n",
    "        res_simul.append(el.mean())\n",
    "    return res_simul"
   ]
  },
  {
   "cell_type": "code",
   "execution_count": null,
   "metadata": {},
   "outputs": [],
   "source": [
    "all_best_scores_pso      = np.asarray(all_best_scores_pso)\n",
    "all_best_scores_jaya     = np.asarray(all_best_scores_jaya)\n",
    "all_best_scores_pso_jaya = np.asarray(all_best_scores_pso_jaya)\n",
    "\n",
    "res_simul_pso      = all_best_scores(all_best_scores_pso)\n",
    "res_simul_jaya     = all_best_scores(all_best_scores_jaya)\n",
    "res_simul_pso_jaya = all_best_scores(all_best_scores_pso_jaya)"
   ]
  },
  {
   "cell_type": "code",
   "execution_count": null,
   "metadata": {},
   "outputs": [],
   "source": [
    "def print_statistical_analysis(all_best_scores):\n",
    "    print(\"mean:\", np.mean(all_best_scores.T[-1]))\n",
    "    print(\"median:\", np.median(all_best_scores.T[-1]))\n",
    "    print(\"std:\", np.std(all_best_scores.T[-1]))\n",
    "    print(\"min\", np.min(all_best_scores.T[-1]))\n",
    "\n",
    "print(\"--pso--\")\n",
    "print_statistical_analysis(all_best_scores_pso)\n",
    "print(\"--jaya--\")\n",
    "print_statistical_analysis(all_best_scores_jaya)\n",
    "print(\"--pso_jaya--\")\n",
    "print_statistical_analysis(all_best_scores_pso_jaya)"
   ]
  },
  {
   "cell_type": "code",
   "execution_count": null,
   "metadata": {},
   "outputs": [],
   "source": [
    "res_simul_pso = np.asarray(res_simul_pso)\n",
    "n = np.arange(res_simul_pso.shape[0])\n",
    "plt.plot(n, res_simul_pso, \"--r\", label=\"pso\")\n",
    "plt.plot(n, res_simul_jaya, \"b\", label=\"jaya\")\n",
    "plt.plot(n, res_simul_pso_jaya[1:501], \":g\", label=\"pso_jaya\")\n",
    "\n",
    "\n",
    "plt.xlabel(\"iteration\")\n",
    "plt.ylabel(\"error\")\n",
    "plt.legend()\n",
    "plt.savefig(\"pin02.png\", dpi=600)\n",
    "plt.grid('True')\n",
    "plt.semilogy()"
   ]
  },
  {
   "cell_type": "code",
   "execution_count": null,
   "metadata": {},
   "outputs": [],
   "source": [
    "df = pd.DataFrame({'PSO': all_best_scores_pso.T[-1], 'Jaya': all_best_scores_jaya.T[-1], 'pso_jaya': all_best_scores_pso_jaya.T[-1]})\n",
    "\n",
    "#create boxplot by group\n",
    "plt.boxplot(df, labels=['pso', 'jaya', 'pso-jaya'])\n",
    "plt.xlabel(\"algorithm\")\n",
    "plt.ylabel(\"error\")\n",
    "plt.semilogy()"
   ]
  }
 ],
 "metadata": {
  "kernelspec": {
   "display_name": "Python 3",
   "language": "python",
   "name": "python3"
  },
  "language_info": {
   "codemirror_mode": {
    "name": "ipython",
    "version": 3
   },
   "file_extension": ".py",
   "mimetype": "text/x-python",
   "name": "python",
   "nbconvert_exporter": "python",
   "pygments_lexer": "ipython3",
   "version": "3.11.2"
  }
 },
 "nbformat": 4,
 "nbformat_minor": 2
}
