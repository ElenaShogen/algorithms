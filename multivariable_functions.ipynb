{
 "cells": [
  {
   "cell_type": "code",
   "execution_count": null,
   "metadata": {},
   "outputs": [],
   "source": [
    "import numpy as np\n",
    "import matplotlib.pyplot as plt\n",
    "import pandas as pd\n",
    "\n",
    "class ParticleSwarm():\n",
    "    def __init__(self,  x_domain, v_max, cost_f, dimension, swarmsize, swarm=None,\n",
    "                alpha = 0.72984, #0.72, 0.3925\n",
    "                beta = 2.05, #1.5, 2.5586, 2.05\n",
    "                gamma = 2.05): #1.5, 1.3358, 2.05\n",
    "        self.dimension = dimension\n",
    "        self.swarmsize = swarmsize\n",
    "        self.cost_f = cost_f\n",
    "        self.alpha = alpha\n",
    "        self.beta = beta\n",
    "        self.gamma = gamma\n",
    "        if x_domain == np.inf:\n",
    "            self.x_domain = 10\n",
    "        else:    \n",
    "            self.x_domain = x_domain\n",
    "        self.v_max = v_max\n",
    "        if swarm is None:\n",
    "            # np.random.seed(63)\n",
    "            self.swarm = np.random.uniform(-self.x_domain, self.x_domain, (self.dimension, self.swarmsize))\n",
    "        else:\n",
    "            self.swarm = swarm\n",
    "        self.bestLocal  = self.swarm.copy() # лучшие положения частиц\n",
    "        # np.random.seed(63)\n",
    "        self.bestGlobal = np.random.uniform(-self.x_domain, self.x_domain, (self.dimension, 1))\n",
    "        self.velocity = np.random.uniform(-self.x_domain, self.x_domain, (self.dimension, self.swarmsize))\n",
    "        self.f_best = self.cost_f(self.bestLocal) \n",
    "        self.best = self.f_best.min()\n",
    "       \n",
    "\n",
    "    def rate_particles(self):\n",
    "        self.f_best = self.cost_f(self.bestLocal) \n",
    "        b = self.f_best >= self.cost_f(self.swarm) \n",
    "        self.bestLocal.T[b] = self.swarm.T[b] #из каждой строки \"bestLocal\" и \"swarm\" формируем массив с индексами из \"b\"\n",
    "\n",
    "        k = np.argmin(self.f_best)\n",
    "        self.bestGlobal = self.bestLocal.T[k].reshape(-1,1)\n",
    "        self.best = self.f_best.min()\n",
    "     \n",
    "        r1, r2 = np.random.rand(2)\n",
    "        self.velocity = self.alpha * self.velocity + self.beta * r1 * (self.bestLocal - self.swarm) + self.gamma * r2 * (self.bestGlobal - self.swarm)\n",
    "        self.velocity = np.minimum(self.velocity,  self.v_max)\n",
    "        self.velocity = np.maximum(self.velocity, -self.v_max)\n",
    "\n",
    "        self.swarm = self.swarm + self.velocity #перемещение частицы\n",
    "        self.swarm = np.minimum(self.swarm,  self.x_domain)\n",
    "        self.swarm = np.maximum(self.swarm, -self.x_domain)"
   ]
  },
  {
   "cell_type": "code",
   "execution_count": null,
   "metadata": {},
   "outputs": [],
   "source": [
    "class Jaya():\n",
    "    def __init__(self, domain, cost_f, dimension, populationsize, population=None): \n",
    "        self.dimension = dimension\n",
    "        self.populationsize = populationsize\n",
    "        if domain == np.inf:\n",
    "            self.domain = 10\n",
    "        else:    \n",
    "            self.domain = domain\n",
    "        if population is None:\n",
    "            # np.random.seed(63)\n",
    "            self.population = np.random.uniform(-self.domain, self.domain, (self.dimension, self.populationsize))\n",
    "        else:\n",
    "            self.population = population\n",
    "        self.population_updt  = self.population.copy() \n",
    "        self.cost_f = cost_f\n",
    "        self.best = np.random.uniform(-self.domain, self.domain, (self.dimension, 1))\n",
    "        self.worst = np.random.uniform(-self.domain, self.domain, (self.dimension, 1))\n",
    "      \n",
    "    def best_worst(self):\n",
    "        f_value = self.cost_f(self.population)\n",
    "\n",
    "        k = np.argmin(f_value)\n",
    "        self.best = self.population.T[k].reshape(-1,1)\n",
    "\n",
    "        q = np.argmax(f_value)\n",
    "        self.worst = self.population.T[q].reshape(-1,1)\n",
    "\n",
    "    def update(self):\n",
    "        self.best_worst()\n",
    "        r1, r2 = np.random.rand(2)\n",
    "        self.population_updt = self.population + r1 * (self.best - abs(self.population)) - r2 * (self.worst - abs(self.population))\n",
    "\n",
    "        b = self.cost_f(self.population_updt) <= self.cost_f(self.population) \n",
    "        self.population.T[b] = self.population_updt.T[b] \n",
    "\n",
    "        self.population = np.minimum(self.population,  self.domain)\n",
    "        self.population = np.maximum(self.population, -self.domain)  "
   ]
  },
  {
   "cell_type": "code",
   "execution_count": null,
   "metadata": {},
   "outputs": [],
   "source": [
    "#functions for optimization\n",
    "def g(x):\n",
    "    # return sum(x**2)\n",
    "    # return sum(abs(x)) #f(0,0)=0 [-10, 10]\n",
    "    # return 10 * x.shape[0] + sum(x**2 - 10 * np.cos(2* np.pi * x)) # Rastrigin f(0,..., 0)=0, -5.12 <= x <= 5.12\n",
    "    # return  sum(x**2 - 10 * np.cos(2* np.pi * x) + 10) # Rastrigin f(0,..., 0)=0, -5.12 <= x <= 5.12\n",
    "    # return \tnp.e + 20 - 20 * np.exp(-0.2 * np.sqrt(1 / x.shape[0] * sum(x**2))) - np.exp(1 / x.shape[0] * sum(np.cos(2 * np.pi * x))) # -32 <= x <= 32, f(0, 0) = 0\n",
    "    # return 418.9829 * x.shape[0] - sum(x * np.sin(np.sqrt(np.abs(x))))\n",
    "    # return (x-1)**2 + 100 * (y - x**2)**2 #f(1,1)=0 Розенброк\n",
    "    # return - np.cos(x[0]) * np.cos(x[1]) * np.exp( - ((x[0] - np.pi)**2 + (x[1] - np.pi)**2)) # Izom -100 <= x, y <= 100  f(pi ,pi )=-1\n",
    "    return  -(x[1] + 47) * np.sin(np.sqrt(np.abs(x[0] / 2 + (x[1] + 47)))) - x[0] * np.sin(np.sqrt(np.abs(x[0] - (x[1] + 47)))) # \"подставка для яиц\" Eggholder function, f(512, 404.2319) = -959.6407, -512 <= x, y <= 512\n",
    "    # return sum(-x * np.sin(np.sqrt(np.abs(x)))) # [-500, 500] f_min = -12569.5\n"
   ]
  },
  {
   "cell_type": "code",
   "execution_count": null,
   "metadata": {},
   "outputs": [],
   "source": [
    "min_f = -959.6407 # минимум функции\n",
    "dom = 512         # область определения\n",
    "num_iter = 200    # количество итераций\n",
    "num_sim = 50      # число симуляций\n",
    "dim = 30          # размерность функции \n",
    "size = 20         # размер роя (количество частиц)"
   ]
  },
  {
   "cell_type": "code",
   "execution_count": null,
   "metadata": {},
   "outputs": [],
   "source": [
    "all_err_pso = []\n",
    "best_value_pso = []\n",
    "for k in range(num_sim):\n",
    "    mean_list_pso = []\n",
    "    pso_multi = ParticleSwarm(x_domain=dom, v_max=np.inf, dimension=dim, swarmsize=size, cost_f=g, alpha=0.9, beta=1.5, gamma=0.25)\n",
    "    for i in range(num_iter):\n",
    "        pso_multi.rate_particles()\n",
    "        minimum = np.abs(g(pso_multi.bestGlobal) - min_f)\n",
    "        mean_list_pso.append(minimum)\n",
    "    all_err_pso.append(mean_list_pso)\n",
    "    best_value_pso.append(g(pso_multi.bestGlobal))\n"
   ]
  },
  {
   "cell_type": "code",
   "execution_count": null,
   "metadata": {},
   "outputs": [],
   "source": [
    "all_err_jy = []\n",
    "best_value_jy = []\n",
    "for k in range(num_sim):\n",
    "    mean_list_jy = []\n",
    "    jy_one = Jaya(domain=dom, cost_f=g, dimension=dim, populationsize=size)\n",
    "    jy_one.best_worst()\n",
    "    for i in range(num_iter):\n",
    "        jy_one.update()\n",
    "        minimum = np.abs((g(jy_one.best) - min_f))\n",
    "        mean_list_jy.append(minimum)\n",
    "    all_err_jy.append(mean_list_jy)\n",
    "    best_value_jy.append(g(jy_one.best))"
   ]
  },
  {
   "cell_type": "code",
   "execution_count": null,
   "metadata": {},
   "outputs": [],
   "source": [
    "all_err_pso_jy = []\n",
    "best_value_pso_jy = []\n",
    "for k in range(num_sim):\n",
    "    pso = ParticleSwarm(x_domain=dom, v_max=np.inf, dimension=dim, swarmsize=size, cost_f=g, alpha=0.9, beta=1.5, gamma=0.25)\n",
    "    mean_list_pso_jaya = [np.abs(g(pso.bestGlobal) - min_f)]\n",
    "    for i in range(num_iter):\n",
    "        pso.rate_particles()\n",
    "        if np.abs(g(pso.bestGlobal) - min_f) >= mean_list_pso_jaya[-1]:\n",
    "            jy = Jaya(domain=pso.x_domain, cost_f=pso.cost_f, population=pso.swarm, dimension=pso.dimension, populationsize=pso.swarmsize)\n",
    "            for j in range(5):\n",
    "                jy.update()\n",
    "            pso.swarm = jy.population\n",
    "        mean_list_pso_jaya.append(np.abs(g(pso.bestGlobal) - min_f))\n",
    "    all_err_pso_jy.append(mean_list_pso_jaya)\n",
    "    best_value_pso_jy.append(g(pso.bestGlobal))"
   ]
  },
  {
   "cell_type": "code",
   "execution_count": null,
   "metadata": {},
   "outputs": [],
   "source": [
    "def mean_all_simul(all_err):\n",
    "    # all_err = np.asarray(all_err)\n",
    "    mean_list = []\n",
    "    for el in all_err.T:\n",
    "        mean_list.append(el.mean())\n",
    "    return np.asarray(mean_list)"
   ]
  },
  {
   "cell_type": "code",
   "execution_count": null,
   "metadata": {},
   "outputs": [],
   "source": [
    "def print_statistical_analysis(all_best_scores):\n",
    "    print(\"mean:\", np.mean(all_best_scores.T[-1]))\n",
    "    print(\"median:\", np.median(all_best_scores.T[-1]))\n",
    "    print(\"std:\", np.std(all_best_scores.T[-1]))\n",
    "    print(\"min\", np.min(all_best_scores.T[-1]))"
   ]
  },
  {
   "cell_type": "code",
   "execution_count": null,
   "metadata": {},
   "outputs": [],
   "source": [
    "all_err_pso = np.asarray(all_err_pso)\n",
    "all_err_jy = np.asarray(all_err_jy)\n",
    "all_err_pso_jy = np.asarray(all_err_pso_jy)\n",
    "all_err_pso_jy = all_err_pso_jy.reshape(num_sim, 201)\n",
    "print(\"--pso--\")\n",
    "print_statistical_analysis(all_err_pso)\n",
    "print(\"--jaya--\")\n",
    "print_statistical_analysis(all_err_jy)\n",
    "print(\"--pso_jaya--\")\n",
    "print_statistical_analysis(all_err_pso_jy[1:201])"
   ]
  },
  {
   "cell_type": "code",
   "execution_count": null,
   "metadata": {},
   "outputs": [],
   "source": [
    "mean_list_pso = mean_all_simul(all_err_pso[0].T)\n",
    "mean_list_jy = mean_all_simul(all_err_jy[0].T)\n",
    "mean_list_pso_jaya = mean_all_simul(all_err_pso_jy[0].T[1:201])\n",
    "n = np.arange(mean_list_pso.shape[0])\n",
    "\n",
    "plt.plot(n, mean_list_pso, \"--r\", label=\"pso\")\n",
    "plt.plot(n, mean_list_jy, 'b', label=\"jaya\")\n",
    "plt.plot(n, mean_list_pso_jaya, ':g',  label=\"pso_jy\")\n",
    "plt.xlabel(\"iteration\")\n",
    "plt.ylabel(\"error\")\n",
    "plt.legend()\n",
    "plt.grid('True')\n",
    "plt.semilogy()\n"
   ]
  },
  {
   "cell_type": "code",
   "execution_count": null,
   "metadata": {},
   "outputs": [],
   "source": [
    "df = pd.DataFrame({'PSO': all_err_pso[0].T[-1], 'Jaya': all_err_jy[0].T[-1], 'pso_jaya': all_err_pso_jy[0].T[1:201]})\n",
    "\n",
    "#create boxplot by group\n",
    "plt.boxplot(df, labels=['pso', 'jaya', 'pso-jaya'])\n",
    "plt.xlabel(\"algorithm\")\n",
    "plt.ylabel(\"error\")\n",
    "plt.semilogy()"
   ]
  }
 ],
 "metadata": {
  "kernelspec": {
   "display_name": "Python 3",
   "language": "python",
   "name": "python3"
  },
  "language_info": {
   "codemirror_mode": {
    "name": "ipython",
    "version": 3
   },
   "file_extension": ".py",
   "mimetype": "text/x-python",
   "name": "python",
   "nbconvert_exporter": "python",
   "pygments_lexer": "ipython3",
   "version": "3.11.2"
  },
  "orig_nbformat": 4
 },
 "nbformat": 4,
 "nbformat_minor": 2
}
